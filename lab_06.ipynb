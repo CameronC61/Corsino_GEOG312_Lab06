{
  "cells": [
    {
      "cell_type": "markdown",
      "metadata": {
        "id": "li_Iq1Bn56JM"
      },
      "source": [
        "[![image](https://colab.research.google.com/assets/colab-badge.svg)](https://colab.research.google.com/github/giswqs/geog-312/blob/master/labs/lab_06.ipynb)\n",
        "[![image](https://binder.pangeo.io/badge_logo.svg)](https://gishub.org/geog312-pangeo)\n",
        "\n",
        "**Cameron Corsino**"
      ]
    },
    {
      "cell_type": "code",
      "execution_count": 94,
      "metadata": {
        "id": "yBKCi-jl56JO",
        "outputId": "24a701a0-eb58-45f3-de7a-6e1d9d892008",
        "colab": {
          "base_uri": "https://localhost:8080/"
        }
      },
      "outputs": [
        {
          "output_type": "stream",
          "name": "stdout",
          "text": [
            "Submitted time: 2023-10-09 20:44:47.702959\n"
          ]
        }
      ],
      "source": [
        "from datetime import datetime\n",
        "\n",
        "now = datetime.now()\n",
        "print(f\"Submitted time: {now}\")"
      ]
    },
    {
      "cell_type": "markdown",
      "metadata": {
        "id": "DY3LPhfw56JP"
      },
      "source": [
        "## Question 1\n",
        "**Message:** Write a function called `display_message()` that prints one sentence telling everyone what you are learning about in this chapter. Call the function, and make sure the message displays correctly."
      ]
    },
    {
      "cell_type": "code",
      "execution_count": 30,
      "metadata": {
        "id": "NGs9z9EN56JP",
        "outputId": "6ca7c491-49d3-4c38-94f9-f6cb61cfeeda",
        "colab": {
          "base_uri": "https://localhost:8080/"
        }
      },
      "outputs": [
        {
          "output_type": "stream",
          "name": "stdout",
          "text": [
            "In this chapter we are learning about functions.\n"
          ]
        }
      ],
      "source": [
        "def display_message():\n",
        "  \"what we are learning\"\n",
        "  message = \"In this chapter we are learning about functions.\"\n",
        "print(message)"
      ]
    },
    {
      "cell_type": "markdown",
      "metadata": {
        "id": "EPYyWexd56JP"
      },
      "source": [
        "## Question 2\n",
        "**Favorite Book:** Write a function called `favorite_book()` that accepts one parameter, title. The function should print a message, such as `One of my favorite books is Alice in Wonderland`. Call the function, making sure to include a book title as an argument in the function call."
      ]
    },
    {
      "cell_type": "code",
      "execution_count": 25,
      "metadata": {
        "id": "xwRJXHnW56JP",
        "outputId": "01ede653-0f58-4341-c089-189bd9930e9e",
        "colab": {
          "base_uri": "https://localhost:8080/"
        }
      },
      "outputs": [
        {
          "output_type": "stream",
          "name": "stdout",
          "text": [
            "Dark Disciple is my favorite book.\n"
          ]
        }
      ],
      "source": [
        "def favorite_book(title):\n",
        "  print(title + \"is my favorite book.\")\n",
        "favorite_book('Dark Disciple ')"
      ]
    },
    {
      "cell_type": "markdown",
      "metadata": {
        "id": "iNtkr54Z56JP"
      },
      "source": [
        "## Question 3\n",
        "**T-Shirt:** Write a function called `make_shirt()` that accepts a size and the text of a message that should be printed on the shirt. The function should print a sentence summarizing the size of the shirt and the message printed on it.\n",
        "\n",
        "Call the function once using positional arguments to make a shirt. Call the function a second time using keyword arguments."
      ]
    },
    {
      "cell_type": "code",
      "execution_count": 24,
      "metadata": {
        "id": "OD8AaBi856JP",
        "outputId": "e714e9be-95f5-4a79-c165-c54ef33df775",
        "colab": {
          "base_uri": "https://localhost:8080/"
        }
      },
      "outputs": [
        {
          "output_type": "stream",
          "name": "stdout",
          "text": [
            "\n",
            "I need a small shirt.\n",
            "the shirt will say,\"Univeristy of Tennessee\"\n",
            "\n",
            "I need a small shirt.\n",
            "the shirt will say,\"University of Tennessee\"\n"
          ]
        }
      ],
      "source": [
        "def make_shirt(size, message):\n",
        "  print(\"\\nI need a \" + size + \" shirt.\")\n",
        "  print('the shirt will say,\"' + message +'\"')\n",
        "make_shirt('small', 'Univeristy of Tennessee')\n",
        "make_shirt(message=\"University of Tennessee\", size='small')"
      ]
    },
    {
      "cell_type": "markdown",
      "metadata": {
        "id": "tOsV_qHO56JQ"
      },
      "source": [
        "## Question 4\n",
        "**Large Shirts:** Modify the `make_shirt()` function so that shirts are large by default with a message that reads *I love Python*. Make a large shirt and a medium shirt with the default message, and a shirt of any size with a different message."
      ]
    },
    {
      "cell_type": "code",
      "execution_count": 23,
      "metadata": {
        "id": "g9aHw1sn56JQ",
        "outputId": "03ca9209-d3cc-4c62-89da-69843d1e7f5e",
        "colab": {
          "base_uri": "https://localhost:8080/"
        }
      },
      "outputs": [
        {
          "output_type": "stream",
          "name": "stdout",
          "text": [
            "\n",
            "I need a large shirt.\n",
            "the shirt will say,\"I love Python!\"\n",
            "\n",
            "I need a medium shirt.\n",
            "the shirt will say,\"I love Python!\"\n",
            "\n",
            "I need a small shirt.\n",
            "the shirt will say,\"Knoxville, Tennessee\"\n"
          ]
        }
      ],
      "source": [
        "def make_shirt(size='large', message='I love Python!'):\n",
        "  print(\"\\nI need a \" + size + \" shirt.\")\n",
        "  print('the shirt will say,\"' + message +'\"')\n",
        "make_shirt()\n",
        "make_shirt(size='medium')\n",
        "make_shirt('small', 'Knoxville, Tennessee')"
      ]
    },
    {
      "cell_type": "markdown",
      "metadata": {
        "id": "kDa_5I8156JQ"
      },
      "source": [
        "## Question 5\n",
        "**Cities:** Write a function called `describe_city()` that accepts the name of a city and its country. The function should print a simple sentence, such as `Reykjavik is in Iceland`. Give the parameter for the country a default value. Call your function for three different cities, at least one of which is not in the default country."
      ]
    },
    {
      "cell_type": "code",
      "execution_count": 22,
      "metadata": {
        "id": "1N4LjU9E56JQ",
        "outputId": "8a2b1a32-acf3-48fd-e993-9aa517b6000a",
        "colab": {
          "base_uri": "https://localhost:8080/"
        }
      },
      "outputs": [
        {
          "output_type": "stream",
          "name": "stdout",
          "text": [
            "Helsinki is in Finland.\n",
            "Rome is in Italy.\n",
            "Tbilisi is in Georgia.\n"
          ]
        }
      ],
      "source": [
        "def describe_city(city, country='finland'):\n",
        "  message = city.title() + \" is in \" + country.title() + \".\"\n",
        "  print(message)\n",
        "describe_city('helsinki')\n",
        "describe_city('rome', 'italy')\n",
        "describe_city('tbilisi','georgia')"
      ]
    },
    {
      "cell_type": "markdown",
      "metadata": {
        "id": "GU0Ku2jr56JQ"
      },
      "source": [
        "## Question 6\n",
        "**City Names:** Write a function called `city_country()` that takes in the name of a city and its country. The function should return a string formatted like this:\n",
        "```\n",
        "Santiago, Chile\n",
        "```\n",
        "Call your function with at least three city-country pairs, and print the values that are returned."
      ]
    },
    {
      "cell_type": "code",
      "execution_count": 31,
      "metadata": {
        "id": "e-z6phXD56JQ",
        "outputId": "effb8d57-8504-40de-a987-42ab6406b104",
        "colab": {
          "base_uri": "https://localhost:8080/"
        }
      },
      "outputs": [
        {
          "output_type": "stream",
          "name": "stdout",
          "text": [
            "Nicosia, Cyprus\n",
            "Cairo, Egypt\n",
            "Zagreb, Croatia\n"
          ]
        }
      ],
      "source": [
        "def city_country(city, country):\n",
        "  return(city.title() + \", \" + country.title())\n",
        "city = city_country('nicosia', 'cyprus')\n",
        "print(city)\n",
        "city = city_country('cairo', 'egypt')\n",
        "print(city)\n",
        "city = city_country('zagreb', 'croatia')\n",
        "print(city)"
      ]
    },
    {
      "cell_type": "markdown",
      "metadata": {
        "id": "Y7GNVb-856JQ"
      },
      "source": [
        "## Question 7\n",
        "**Album:** Write a function called `make_album()` that builds a dictionary describing a music album. The function should take in an artist name and an album title, and it should return a dictionary containing these two pieces of information. Use the function to make three dictionaries representing different albums. Print each return value to show that the dictionaries are storing the album information correctly.\n",
        "\n",
        "Use None to add an optional parameter to make_album() that allows you to store the number of songs on an album. If the calling line includes a value for the number of songs, add that value to the album’s dictionary. Make at least one new function call that includes the number of songs on an album."
      ]
    },
    {
      "cell_type": "code",
      "execution_count": 34,
      "metadata": {
        "id": "W1k2BuJ756JQ",
        "outputId": "bca90920-a1ae-4c7d-bb9e-cfb843a5b735",
        "colab": {
          "base_uri": "https://localhost:8080/"
        }
      },
      "outputs": [
        {
          "output_type": "stream",
          "name": "stdout",
          "text": [
            "{'artist': 'Of Monsters And Men', 'title': 'My Head Is An Animal'}\n",
            "{'artist': 'Nanna', 'title': 'How To Start A Garden'}\n",
            "{'artist': 'Young The Giant', 'title': 'Young The Giant'}\n",
            "{'artist': 'Of Monsters And Men', 'title': 'Fever Dream', 'songs': 11}\n"
          ]
        }
      ],
      "source": [
        "def make_album(artist, title, songs=0):\n",
        "  album = {'artist': artist.title(), 'title': title.title(),}\n",
        "  if songs:\n",
        "    album['songs'] = songs\n",
        "  return album\n",
        "album = make_album('of monsters and men', 'my head is an animal')\n",
        "print(album)\n",
        "album = make_album('nanna', 'how to start a garden')\n",
        "print(album)\n",
        "album = make_album('young the giant', 'young the giant')\n",
        "print(album)\n",
        "album = make_album('of monsters and men', 'FEVER DREAM', songs=11)\n",
        "print(album)"
      ]
    },
    {
      "cell_type": "markdown",
      "metadata": {
        "id": "28Z4Pqo456JR"
      },
      "source": [
        "## Question 8\n",
        "**User Albums:** Start with your program from Question 7. Write a `while` loop that allows users to enter an album’s artist and title. Once you have that information, call `make_album()` with the user’s input and print the dictionary that’s created. Be sure to include a quit value in the `while` loop."
      ]
    },
    {
      "cell_type": "code",
      "execution_count": 41,
      "metadata": {
        "id": "o1G3cg1L56JR",
        "outputId": "87996bcb-8c24-4e27-e2ec-85de543a6294",
        "colab": {
          "base_uri": "https://localhost:8080/"
        }
      },
      "outputs": [
        {
          "name": "stdout",
          "output_type": "stream",
          "text": [
            "'quit'\n",
            "\n",
            "Choose an album my head is an animal\n",
            "Choose the artist of monsters and men\n",
            "{'artist': 'Of Monsters And Men', 'title': 'My Head Is An Animal'}\n",
            "\n",
            "Choose an album young the giant\n",
            "Choose the artist young the giant\n",
            "{'artist': 'Young The Giant', 'title': 'Young The Giant'}\n",
            "\n",
            "Choose an album fever dream\n",
            "Choose the artist of monsters and men\n",
            "{'artist': 'Of Monsters And Men', 'title': 'Fever Dream'}\n",
            "\n",
            "Choose an album quit\n"
          ]
        }
      ],
      "source": [
        "def make_album(artist, title, songs=0):\n",
        "  album = {'artist': artist.title(), 'title': title.title(),}\n",
        "  if songs:\n",
        "    album['songs'] = songs\n",
        "  return album\n",
        "title_prompt = \"\\nChoose an album \"\n",
        "artist_prompt = \"Choose the artist \"\n",
        "print((\"'quit'\"))\n",
        "while True:\n",
        "  title = input(title_prompt)\n",
        "  if title == 'quit':\n",
        "    break\n",
        "  artist = input(artist_prompt)\n",
        "  if artist == 'quit':\n",
        "      break\n",
        "  album = make_album(artist, title)\n",
        "  print(album)"
      ]
    },
    {
      "cell_type": "markdown",
      "metadata": {
        "id": "XfmMwjms56JR"
      },
      "source": [
        "## Question 9\n",
        "**Messages:** Make a list containing a series of short text messages. Pass the list to a function called `show_messages()`, which prints each text message."
      ]
    },
    {
      "cell_type": "code",
      "execution_count": 46,
      "metadata": {
        "id": "gzr5n4UL56JR",
        "outputId": "ad75bc3f-64c7-487e-f68b-8d68348a7136",
        "colab": {
          "base_uri": "https://localhost:8080/"
        }
      },
      "outputs": [
        {
          "output_type": "stream",
          "name": "stdout",
          "text": [
            "Goodmorning\n",
            "thank you\n",
            "what time?\n",
            "How are you?\n"
          ]
        }
      ],
      "source": [
        "def show_messages(messages):\n",
        "  for message in messages:\n",
        "    print(message)\n",
        "messages = [\"Goodmorning\", \"thank you\", \"what time?\", \"How are you?\"]\n",
        "show_messages(messages)"
      ]
    },
    {
      "cell_type": "markdown",
      "metadata": {
        "id": "Z9Qm2jYn56JR"
      },
      "source": [
        "## Question 10\n",
        "**Sending Messages:** Start with a copy of your program from Question 9. Write a function called `send_messages()` that prints each text message and moves each message to a new list called `sent_messages` as it’s printed. After calling the function, print both of your lists to make sure the messages were moved correctly."
      ]
    },
    {
      "cell_type": "code",
      "execution_count": 47,
      "metadata": {
        "id": "bX17Jm8a56JR",
        "outputId": "a45a464e-e50c-4e73-9019-15ff23008ad3",
        "colab": {
          "base_uri": "https://localhost:8080/"
        }
      },
      "outputs": [
        {
          "output_type": "stream",
          "name": "stdout",
          "text": [
            "All messages:\n",
            "Goodmorning\n",
            "thank you\n",
            "what time?\n",
            "How are you?\n",
            "\n",
            "Sending messages:\n",
            "How are you?\n",
            "what time?\n",
            "thank you\n",
            "Goodmorning\n",
            "\n",
            "Lists:\n",
            "[]\n",
            "['How are you?', 'what time?', 'thank you', 'Goodmorning']\n"
          ]
        }
      ],
      "source": [
        "def show_messages(messages):\n",
        "  print(\"All messages:\")\n",
        "  for message in messages:\n",
        "    print(message)\n",
        "def send_messages(messages, sent_messages):\n",
        "  print(\"\\nSending messages:\")\n",
        "  while messages:\n",
        "    current_message = messages.pop()\n",
        "    print(current_message)\n",
        "    sent_messages.append(current_message)\n",
        "messages = [\"Goodmorning\", \"thank you\", \"what time?\", \"How are you?\"]\n",
        "show_messages(messages)\n",
        "sent_messages = []\n",
        "send_messages(messages, sent_messages)\n",
        "print(\"\\nLists:\")\n",
        "print(messages)\n",
        "print(sent_messages)"
      ]
    },
    {
      "cell_type": "markdown",
      "metadata": {
        "id": "0hM-xR3G56JR"
      },
      "source": [
        "## Question 11\n",
        "**Archived Messages:** Start with your work from Question 10. Call the function `send_messages()` with a copy of the list of messages. After calling the function, print both of your lists to show that the original list has retained its messages."
      ]
    },
    {
      "cell_type": "code",
      "execution_count": 48,
      "metadata": {
        "id": "ZSxKWkpx56JR",
        "outputId": "5d84e901-9e31-440a-aec6-1d40ebb02bec",
        "colab": {
          "base_uri": "https://localhost:8080/"
        }
      },
      "outputs": [
        {
          "output_type": "stream",
          "name": "stdout",
          "text": [
            "All messages:\n",
            "Goodmorning\n",
            "thank you\n",
            "what time?\n",
            "How are you?\n",
            "\n",
            "Sending messages:\n",
            "How are you?\n",
            "what time?\n",
            "thank you\n",
            "Goodmorning\n",
            "\n",
            "Lists:\n",
            "['Goodmorning', 'thank you', 'what time?', 'How are you?']\n",
            "['How are you?', 'what time?', 'thank you', 'Goodmorning']\n"
          ]
        }
      ],
      "source": [
        "def show_messages(messages):\n",
        "  print(\"All messages:\")\n",
        "  for message in messages:\n",
        "    print(message)\n",
        "def send_messages(messages, sent_messages):\n",
        "  print(\"\\nSending messages:\")\n",
        "  while messages:\n",
        "    current_message = messages.pop()\n",
        "    print(current_message)\n",
        "    sent_messages.append(current_message)\n",
        "messages = [\"Goodmorning\", \"thank you\", \"what time?\", \"How are you?\"]\n",
        "show_messages(messages)\n",
        "sent_messages = []\n",
        "send_messages(messages[:], sent_messages)\n",
        "print(\"\\nLists:\")\n",
        "print(messages)\n",
        "print(sent_messages)"
      ]
    },
    {
      "cell_type": "markdown",
      "metadata": {
        "id": "tYwXYEbj56JR"
      },
      "source": [
        "## Question 12\n",
        "**Sandwiches:** Write a function that accepts a list of items a person wants on a sandwich. The function should have one parameter that collects as many items as the function call provides, and it should print a summary of the sandwich that’s being ordered. Call the function three times, using a different number of arguments each time."
      ]
    },
    {
      "cell_type": "code",
      "execution_count": 53,
      "metadata": {
        "id": "Jeu3e0aL56JR",
        "outputId": "57c4b31c-913b-46ac-91dc-fc7fa6c119e3",
        "colab": {
          "base_uri": "https://localhost:8080/"
        }
      },
      "outputs": [
        {
          "output_type": "stream",
          "name": "stdout",
          "text": [
            "\n",
            "I'm making a breakfast sandwich.\n",
            "add american cheese, bacon\n",
            "my sandwich is done.\n",
            "\n",
            "I'm making a breakfast sandwich.\n",
            "add egg, american cheese, sausage\n",
            "my sandwich is done.\n",
            "\n",
            "I'm making a breakfast sandwich.\n",
            "add egg, american cheese, bacon, avocado\n",
            "my sandwich is done.\n"
          ]
        }
      ],
      "source": [
        "def breakfast_sandwich(*items):\n",
        "  print(\"\\nI'm making a breakfast sandwich.\")\n",
        "  for item in items:\n",
        "    print(f\"add {item}\")\n",
        "    print(\"my sandwich is done.\")\n",
        "breakfast_sandwich('american cheese, bacon')\n",
        "breakfast_sandwich('egg, american cheese, sausage')\n",
        "breakfast_sandwich('egg, american cheese, bacon, avocado')"
      ]
    },
    {
      "cell_type": "markdown",
      "metadata": {
        "id": "BBxC23aE56JR"
      },
      "source": [
        "## Question 13\n",
        "**Cars:** Write a function that stores information about a car in a dictionary. The function should always receive a manufacturer and a model name. It should then accept an arbitrary number of keyword arguments. Call the function with the required information and two other name-value pairs, such as a color or an optional feature. Your function should work for a call like this one:\n",
        "```\n",
        "car = make_car('subaru', 'outback', color='blue', tow_package=True)\n",
        "```\n",
        "Print the dictionary that’s returned to make sure all the information was stored correctly."
      ]
    },
    {
      "cell_type": "code",
      "execution_count": 56,
      "metadata": {
        "id": "axQpLOn456JR",
        "outputId": "c12c6c84-320a-43fa-ab3a-d43e6f12dd3d",
        "colab": {
          "base_uri": "https://localhost:8080/"
        }
      },
      "outputs": [
        {
          "output_type": "stream",
          "name": "stdout",
          "text": [
            "{'manufacturer': 'Hyundai', 'model': 'Santa Fe', 'color': 'green', 'year': 2014}\n",
            "{'manufacturer': 'Honda', 'model': 'Civic', 'year': 2010, 'color': 'gray'}\n"
          ]
        }
      ],
      "source": [
        "def make_car(manufacturer, model, **options):\n",
        "  dictionary = {'manufacturer': manufacturer.title(), 'model': model.title(),}\n",
        "  for option, value in options.items():\n",
        "    dictionary[option] = value\n",
        "  return dictionary\n",
        "car_1 = make_car('hyundai', 'santa fe', color='green', year=2014)\n",
        "print(car_1)\n",
        "car_2 = make_car('honda','civic', year=2010, color='gray')\n",
        "print(car_2)"
      ]
    },
    {
      "cell_type": "markdown",
      "metadata": {
        "id": "-gjxnE5056JR"
      },
      "source": [
        "## Question 14\n",
        "**Restaurant:** Make a class called `Restaurant`. The `__init__()` method for `Restaurant` should store two attributes: a `restaurant_name` and a `cuisine_type`. Make a method called `describe_restaurant()` that prints these two pieces of information, and a method called `open_restaurant()` that prints a message indicating that the restaurant is open.\n",
        "\n",
        "Make an instance called `restaurant` from your class. Print the two attributes individually, and then call both methods."
      ]
    },
    {
      "cell_type": "code",
      "execution_count": 65,
      "metadata": {
        "id": "ORBAv-_i56JR",
        "outputId": "c9d58a9a-f0a5-4b96-ccc0-5246d0aaaf4d",
        "colab": {
          "base_uri": "https://localhost:8080/"
        }
      },
      "outputs": [
        {
          "output_type": "stream",
          "name": "stdout",
          "text": [
            "Daves Hot Chicken\n",
            "chicken sandwiches\n",
            "\n",
            "Daves Hot Chicken has great chicken sandwiches.\n",
            "\n",
            "Daves Hot Chicken is open today.\n"
          ]
        }
      ],
      "source": [
        "class Restaurant():\n",
        "  def __init__(self, name, cuisine_type):\n",
        "    self.name = name.title()\n",
        "    self.cuisine_type = cuisine_type\n",
        "  def describe_restaurant(self):\n",
        "    message = self.name + \" has great \" + self.cuisine_type + \".\"\n",
        "    print(\"\\n\" + message)\n",
        "  def open_restaurant(self):\n",
        "    message = self.name + \" is open today.\"\n",
        "    print(\"\\n\" + message)\n",
        "restaurant = Restaurant('daves hot chicken','chicken sandwiches')\n",
        "print(restaurant.name)\n",
        "print(restaurant.cuisine_type)\n",
        "restaurant.describe_restaurant()\n",
        "restaurant.open_restaurant()"
      ]
    },
    {
      "cell_type": "markdown",
      "metadata": {
        "id": "7iZvdDbP56JR"
      },
      "source": [
        "## Question 15\n",
        "**Three Restaurants:** Start with your class from Question 14. Create three different instances from the class, and call `describe_restaurant()` for each instance."
      ]
    },
    {
      "cell_type": "code",
      "execution_count": 66,
      "metadata": {
        "id": "_y6U2lgS56JR",
        "outputId": "3dcec4af-43e6-4d4f-b5da-c39b62086c8f",
        "colab": {
          "base_uri": "https://localhost:8080/"
        }
      },
      "outputs": [
        {
          "output_type": "stream",
          "name": "stdout",
          "text": [
            "\n",
            "Daves Hot Chicken has great chicken sandwiches.\n",
            "\n",
            "Crumbl Cookies has great cookies.\n",
            "\n",
            "Temazcal has great mexican.\n"
          ]
        }
      ],
      "source": [
        "class Restaurant():\n",
        "  def __init__(self, name, cuisine_type):\n",
        "    self.name = name.title()\n",
        "    self.cuisine_type = cuisine_type\n",
        "  def describe_restaurant(self):\n",
        "    message = self.name + \" has great \" + self.cuisine_type + \".\"\n",
        "    print(\"\\n\" + message)\n",
        "  def open_restaurant(self):\n",
        "    message = self.name + \" is open today.\"\n",
        "    print(\"\\n\" + message)\n",
        "daves_chicken = Restaurant('daves hot chicken','chicken sandwiches')\n",
        "daves_chicken.describe_restaurant()\n",
        "crumbl_cookies = Restaurant(\"crumbl cookies\",'cookies')\n",
        "crumbl_cookies.describe_restaurant()\n",
        "temazcal_mex = Restaurant('temazcal','mexican')\n",
        "temazcal_mex.describe_restaurant()"
      ]
    },
    {
      "cell_type": "markdown",
      "metadata": {
        "id": "XbvO6YSV56JR"
      },
      "source": [
        "## Question 16\n",
        "**Users:** Make a class called `User`. Create two attributes called `first_name` and `last_name`, and then create several other attributes that are typically stored in a user profile. Make a method called `describe_user()` that prints a summary of the user’s information. Make another method called `greet_user()` that prints a personalized greeting to the user.\n",
        "\n",
        "Create several instances representing different users, and call both methods for each user."
      ]
    },
    {
      "cell_type": "code",
      "execution_count": 73,
      "metadata": {
        "colab": {
          "base_uri": "https://localhost:8080/"
        },
        "id": "DfmPnTSh56JR",
        "outputId": "cce13f9f-6730-4d42-9454-e0e4d5bd9546"
      },
      "outputs": [
        {
          "output_type": "stream",
          "name": "stdout",
          "text": [
            "\n",
            "Cam C.\n",
            " Username: cam123\n",
            " Email: cam123@utk.com\n",
            " Location: Tennessee\n",
            "\n",
            "Hello, cam123\n",
            "\n",
            "Matt C.\n",
            " Username: matt123\n",
            " Email: matt123@school.com\n",
            " Location: New Hampshire\n",
            "\n",
            "Hello, matt123\n"
          ]
        }
      ],
      "source": [
        "class User():\n",
        "  def __init__(self, first_name, last_name, username, email, location):\n",
        "    self.first_name = first_name.title()\n",
        "    self.last_name = last_name.title()\n",
        "    self.username = username\n",
        "    self.email = email\n",
        "    self.location = location.title()\n",
        "  def describe_user(self):\n",
        "    print(\"\\n\" + self.first_name + \" \" + self.last_name)\n",
        "    print(\" Username: \" + self.username)\n",
        "    print(\" Email: \" + self.email)\n",
        "    print(\" Location: \" + self.location)\n",
        "  def greet_user(self):\n",
        "    print(\"\\nHello, \" + self.username)\n",
        "cam = User('cam','c.','cam123','cam123@utk.com','tennessee')\n",
        "cam.describe_user()\n",
        "cam.greet_user()\n",
        "matt = User('matt','c.','matt123','matt123@school.com','new hampshire')\n",
        "matt.describe_user()\n",
        "matt.greet_user()"
      ]
    },
    {
      "cell_type": "markdown",
      "metadata": {
        "id": "gICpLhJq56JR"
      },
      "source": [
        "## Question 17\n",
        "**Number Served:** Start with your program from Question 14. Add an attribute called `number_served` with a default value of 0. Create an instance called `restaurant` from this class. Print the number of customers the restaurant has served, and then change this value and print it again.\n",
        "\n",
        "Add a method called `set_number_served()` that lets you set the number of customers that have been served. Call this method with a new number and print the value again.\n",
        "\n",
        "Add a method called `increment_number_served()` that lets you increment the number of customers who’ve been served.\n",
        "\n",
        "Call this method with any number you like that could represent how many customers were served in, say, a day of business."
      ]
    },
    {
      "cell_type": "code",
      "execution_count": 75,
      "metadata": {
        "id": "Y9zE_jtR56JR",
        "outputId": "1cedb158-3d9e-4e44-e460-a1615982ef16",
        "colab": {
          "base_uri": "https://localhost:8080/"
        }
      },
      "outputs": [
        {
          "output_type": "stream",
          "name": "stdout",
          "text": [
            "\n",
            "Daves Hot Chicken has great chicken sandwiches.\n",
            "\n",
            "Number served: 0\n",
            "Number served: 100\n",
            "Number served: 200\n",
            "Number served: 225\n"
          ]
        }
      ],
      "source": [
        "class Restaurant():\n",
        "  def __init__(self, name, cuisine_type):\n",
        "    self.name = name.title()\n",
        "    self.cuisine_type = cuisine_type\n",
        "    self.number_served = 0\n",
        "  def describe_restaurant(self):\n",
        "    message = self.name + \" has great \" + self.cuisine_type + \".\"\n",
        "    print(\"\\n\" + message)\n",
        "  def open_restaurant(self):\n",
        "    message = self.name + \" is open today.\"\n",
        "    print(\"\\n\" + message)\n",
        "  def set_number_served(self, number_served):\n",
        "    self.number_served = number_served\n",
        "  def increment_number_served(self, increment_served):\n",
        "    self.number_served += increment_served\n",
        "restaurant = Restaurant('daves hot chicken','chicken sandwiches')\n",
        "restaurant.describe_restaurant()\n",
        "print(\"\\nNumber served: \" + str(restaurant.number_served))\n",
        "restaurant.number_served = 100\n",
        "print(\"Number served: \" + str(restaurant.number_served))\n",
        "restaurant.set_number_served(200)\n",
        "print(\"Number served: \" + str(restaurant.number_served))\n",
        "restaurant.increment_number_served(25)\n",
        "print(\"Number served: \" + str(restaurant.number_served))"
      ]
    },
    {
      "cell_type": "markdown",
      "metadata": {
        "id": "FU9jGm-456JR"
      },
      "source": [
        "## Question 18\n",
        "**Login Attempts:** Add an attribute called login_attempts to your User class from Question 16. Write a method called `increment_login_attempts()` that increments the value of `login_attempts` by 1. Write another method called `reset_login_attempts()` that resets the value of login_attempts to 0.\n",
        "\n",
        "Make an instance of the `User` class and call `increment_login_attempts()` several times. Print the value of `login_attempts` to make sure it was incremented properly, and then call `reset_login_attempts()`. Print `login_attempts` again to make sure it was reset to 0."
      ]
    },
    {
      "cell_type": "code",
      "execution_count": 76,
      "metadata": {
        "outputId": "6a225c5d-f89e-4a61-8093-f78f05141207",
        "colab": {
          "base_uri": "https://localhost:8080/"
        },
        "id": "PvOOVWE09F59"
      },
      "outputs": [
        {
          "output_type": "stream",
          "name": "stdout",
          "text": [
            "\n",
            "Cam C.\n",
            " Username: cam123\n",
            " Email: cam123@utk.com\n",
            " Location: Tennessee\n",
            "\n",
            "Hello, cam123\n",
            "\n",
            "Login attempts\n",
            " Login attempts: 3\n",
            "resetting\n",
            " login attempts: 0\n"
          ]
        }
      ],
      "source": [
        "class User():\n",
        "  def __init__(self, first_name, last_name, username, email, location):\n",
        "    self.first_name = first_name.title()\n",
        "    self.last_name = last_name.title()\n",
        "    self.username = username\n",
        "    self.email = email\n",
        "    self.location = location.title()\n",
        "    self.login_attempts = 0\n",
        "  def describe_user(self):\n",
        "    print(\"\\n\" + self.first_name + \" \" + self.last_name)\n",
        "    print(\" Username: \" + self.username)\n",
        "    print(\" Email: \" + self.email)\n",
        "    print(\" Location: \" + self.location)\n",
        "  def greet_user(self):\n",
        "    print(\"\\nHello, \" + self.username)\n",
        "  def increment_login_attempts(self):\n",
        "    self.login_attempts += 1\n",
        "  def reset_login_attempts(self):\n",
        "    self.login_attempts = 0\n",
        "cam = User('cam','c.','cam123','cam123@utk.com','tennessee')\n",
        "cam.describe_user()\n",
        "cam.greet_user()\n",
        "print(\"\\nLogin attempts\")\n",
        "cam.increment_login_attempts()\n",
        "cam.increment_login_attempts()\n",
        "cam.increment_login_attempts()\n",
        "print(\" Login attempts: \" + str(cam.login_attempts))\n",
        "print(\"resetting\")\n",
        "cam.reset_login_attempts()\n",
        "print(\" login attempts: \" + str(cam.login_attempts))"
      ]
    },
    {
      "cell_type": "markdown",
      "metadata": {
        "id": "8kLZd4Uw56JS"
      },
      "source": [
        "## Question 19\n",
        "**Dice:** Make a class `Die` with one attribute called `sides`, which has a default value of 6. Write a method called `roll_die()` that prints a random number between 1 and the number of sides the die has. Make a 6-sided die and roll it 10 times.\n",
        "\n",
        "Make a 10-sided die and a 20-sided die. Roll each die 10 times."
      ]
    },
    {
      "cell_type": "code",
      "execution_count": 80,
      "metadata": {
        "id": "lTP8mu0L56JV",
        "outputId": "a8bafcac-3246-4d54-8666-41fb5bc1f6e7",
        "colab": {
          "base_uri": "https://localhost:8080/"
        }
      },
      "outputs": [
        {
          "output_type": "stream",
          "name": "stdout",
          "text": [
            "6 sided die rolled 10 times:\n",
            "[5, 1, 6, 6, 1, 4, 5, 5, 2, 5]\n",
            "\n",
            "10 sided die rolled 10 times:\n",
            "[2, 5, 10, 6, 4, 2, 10, 10, 4, 4]\n",
            "\n",
            "20 sided die rolled 10 times:\n",
            "[3, 6, 8, 7, 9, 12, 17, 13, 11, 7]\n"
          ]
        }
      ],
      "source": [
        "from random import randint\n",
        "class Die():\n",
        "  def __init__(self, sides=6):\n",
        "    self.sides = sides\n",
        "  def roll_die(self):\n",
        "    return randint(1, self.sides)\n",
        "d6 = Die()\n",
        "results = []\n",
        "for roll_num in range(10):\n",
        "  result = d6.roll_die()\n",
        "  results.append(result)\n",
        "print(\"6 sided die rolled 10 times:\")\n",
        "print(results)\n",
        "d10 = Die(sides=10)\n",
        "results = []\n",
        "for roll_num in range(10):\n",
        "  result = d10.roll_die()\n",
        "  results.append(result)\n",
        "print(\"\\n10 sided die rolled 10 times:\")\n",
        "print(results)\n",
        "d20 = Die(sides=20)\n",
        "results = []\n",
        "for roll_num in range(10):\n",
        "  result = d20.roll_die()\n",
        "  results.append(result)\n",
        "print(\"\\n20 sided die rolled 10 times:\")\n",
        "print(results)"
      ]
    },
    {
      "cell_type": "markdown",
      "metadata": {
        "id": "VXHE_U3p56JV"
      },
      "source": [
        "## Question 20\n",
        "**Lottery:** Make a list or tuple containing a series of 10 numbers and five letters. Randomly select four numbers or letters from the list and print a message saying that any ticket matching these four numbers or letters wins a prize.\n",
        "\n",
        "You can use a loop to see how hard it might be to win the kind of lottery you just modeled. Make a list or tuple called `my_ticket`. Write a loop that keeps pulling numbers until your ticket wins. Print a message reporting how many times the loop had to run to give you a winning ticket."
      ]
    },
    {
      "cell_type": "code",
      "source": [
        "from random import choice\n",
        "possibilities = [1,2,3,4,5,6,7,8,9,10,'a','b','c','d','e']\n",
        "winning_ticket = []\n",
        "print(\"The winning ticket is \")\n",
        "while len(winning_ticket) < 4:\n",
        "  pulled_ticket = choice(possibilities)\n",
        "  if pulled_ticket not in winning_ticket:\n",
        "    print(f\" ticket {pulled_ticket}\")\n",
        "    winning_ticket.append(pulled_ticket)"
      ],
      "metadata": {
        "id": "qlwOWbbcGzlF",
        "outputId": "c16bfe3a-012e-4439-e559-e3bc20c15429",
        "colab": {
          "base_uri": "https://localhost:8080/"
        }
      },
      "execution_count": 90,
      "outputs": [
        {
          "output_type": "stream",
          "name": "stdout",
          "text": [
            "The winning ticket is \n",
            " ticket 10\n",
            " ticket 9\n",
            " ticket e\n",
            " ticket 6\n"
          ]
        }
      ]
    },
    {
      "cell_type": "code",
      "execution_count": 93,
      "metadata": {
        "id": "VHLndw4856JV",
        "outputId": "cf7ad2c4-62bb-41b2-d139-b6053d54c029",
        "colab": {
          "base_uri": "https://localhost:8080/"
        }
      },
      "outputs": [
        {
          "output_type": "stream",
          "name": "stdout",
          "text": [
            "Tried 1000 times, without pulling a winner. :\n",
            "Your ticket: [6, 3, 10, 'a']\n",
            "Winning ticket: ['e']\n"
          ]
        }
      ],
      "source": [
        "from random import choice\n",
        "def get_winning_ticket(possibilities):\n",
        " winning_ticket = []\n",
        " while len(winning_ticket) < 4:\n",
        "  pulled_ticket = choice(possibilities)\n",
        "  if pulled_ticket not in winning_ticket:\n",
        "    winning_ticket.append(pulled_ticket)\n",
        "  return winning_ticket\n",
        "def my_ticket(played_ticket, winning_ticket):\n",
        "  for element in played_ticket:\n",
        "    if element not in winning_ticket:\n",
        "      return False\n",
        "  return True\n",
        "def random_ticket(possibilities):\n",
        "  ticket = []\n",
        "  while len(ticket) <4:\n",
        "    pulled_item = choice(possibilities)\n",
        "    if pulled_item not in ticket:\n",
        "      ticket.append(pulled_item)\n",
        "  return ticket\n",
        "possibilities = [1,2,3,4,5,6,7,8,9,10,'a','b','c','d','e']\n",
        "winning_ticket = get_winning_ticket(possibilities)\n",
        "plays = 0\n",
        "won = False\n",
        "max_tries = 1_000\n",
        "while not won:\n",
        "  new_ticket = random_ticket(possibilities)\n",
        "  won = my_ticket(new_ticket, winning_ticket)\n",
        "  plays += 1\n",
        "  if plays >= max_tries:\n",
        "    break\n",
        "if won:\n",
        "  print(\"We have a winning ticket\")\n",
        "  print(f\"Your ticket: {new_ticket}\")\n",
        "  print(f\"Winning ticket: {winning_ticket}\")\n",
        "  print(f\"It only took {plays} tries to win.\")\n",
        "else:\n",
        "  print(f\"Tried {plays} times, without pulling a winner. :\")\n",
        "  print(f\"Your ticket: {new_ticket}\")\n",
        "  print(f\"Winning ticket: {winning_ticket}\")"
      ]
    }
  ],
  "metadata": {
    "kernelspec": {
      "display_name": "Python 3 (ipykernel)",
      "language": "python",
      "name": "python3"
    },
    "language_info": {
      "codemirror_mode": {
        "name": "ipython",
        "version": 3
      },
      "file_extension": ".py",
      "mimetype": "text/x-python",
      "name": "python",
      "nbconvert_exporter": "python",
      "pygments_lexer": "ipython3",
      "version": "3.8.10"
    },
    "colab": {
      "provenance": []
    }
  },
  "nbformat": 4,
  "nbformat_minor": 0
}